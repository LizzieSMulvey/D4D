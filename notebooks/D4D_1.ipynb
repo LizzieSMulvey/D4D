{
 "cells": [
  {
   "cell_type": "markdown",
   "metadata": {},
   "source": [
    "### An introduction to data and statistical analysis ##\n",
    "\n",
    "I was asked to **present** an introduction to \"data\" and statistics. I will try to provide you with some things to look for, some issues that you'll come up against, and a little introduction to concepts that will help you read simple research papers and collect and analyze your own data. \n",
    "\n",
    "First, at the highest level, we have the unit of a data set. This is a collection of information about some phenomenon in the world. Data sets are social creatures and like to play with others, creating new data out of old through combination. Add your credit data to your web browsing behavior and we can serve you all manner of pointed ads. When you acquire a data set there are a few high-level questions you want to get right from the outset.\n",
    "\n",
    "1. Who collected these data?\n",
    "\n",
    "\n",
    "2. What were the motivations and incentives for the group that collected the data?\n",
    "\n",
    "\n",
    "3. Why were they collected originally? \n",
    "\n",
    "\n",
    "4. What methodology was used to assemble the information?\n",
    "\n",
    "\n",
    "5. Were you given the complete data set or just a portion?\n",
    "\n",
    "\n",
    "6. How have the data been used previously? And were the \"results\" published? Peer reviewed? Did they appear in a good journal or lead to some valuable insights?\n",
    "\n",
    "\n",
    "7. Were the data made public under some kind of publication standard? Did they adhere to that standard and what burden does this place on your use? \n",
    "\n",
    "\n",
    "8. What format are the data in? Are they a spreadsheet (CSV) or in XML or JSON? Is some speciality format used, and if so, do you have the software you need to analyze it? (Take as an example [the BRFSS](https://www.cdc.gov/brfss/data_documentation/index.htm).)\n",
    "\n",
    "\n",
    "9. Others?\n",
    "\n",
    "Data from the kinds of efforts we are going to see come in two broad categories - **observational or experimental**. As its name suggests, in an observational study we just record what we see. We talk to people or measure something, but we don't affect them in any other way. In an experimental setting, we introduce different \"treatments\" to see if groups differ based on the treatment they receive. Here you can think of A/B testing as a classic example - visitors to a web site are shown one of two headlines and the publication decides which is better by seeing if the click-through rate is higher for one over the other. \n",
    "\n",
    "Data and statistical analyses also serve different narrative ends. In the treatment that follows, think about the kinds of methods of data collection that are in play and the kinds of conclusions that can be drawn. The veracity of our statements depend on how the data were collected. Underlying all of this is whether or not you can say something reasonable about **the uncertainty in your data**, or about your conclusions. In some cases, it will be hard to quantify uncertainty and in others, especially those based on classic statistical designs like random sampling or random allocation, we can make very precise statements about uncertainty. Ultimately, this all gets at how knowledge is created from data.\n",
    "\n",
    "### A case study: Death toll in Puerto Rico from Hurricane Maria ###\n",
    "\n",
    "**Early news coverage**\n",
    "\n",
    "Hurricane María makes landfall in Puerto Rico on September 20, 2017. A couple weeks later the death toll was set at 16. About a month after that, the New York times published an article based on funeral home data confirming the widespread suspicion that the situation in Puerto Rico was much worse than was reported.<br><br>\n",
    "Below is the NYT article. Their approach is simple year-over-year subtraction. Are there any issues with this?\n",
    "\n",
    "[Puerto Rico Deaths Spike, but Few Are Attributed to Hurricane](https://www.nytimes.com/2017/11/08/us/puerto-rico-deaths-fema.html)\n",
    ">On Wednesday, Puerto Rico officials, facing increasing questions about the accuracy of the official death toll from the storm, acknowledged for the first time that 472 more people died this September compared with the same month last year. The storm made landfall on Sept. 20. The government’s official death toll is 55...<br><br>\n",
    "At the news conference on Wednesday, Wanda Llovet, the director of Puerto Rico’s demographics registry, said more people died in September because so many young people had left the island, leaving Puerto Rico with an aging population.\n",
    "\n",
    "A couple weeks later CNN publishes its own article, estimating 499 excess deaths.\n",
    "\n",
    "[Here is the CNN article.](https://www.cnn.com/2017/11/20/health/hurricane-maria-uncounted-deaths-invs/index.html) Skim it and tell me what they did.\n",
    "\n",
    "I spoke with John Sutter and he said that CNN had a number of reporters on the ground and they started hearing from hospitals and funeral homes that there were a lot of people dying. Since the government was not producing data, where could they go? \"Funeral homes were the only ones with records, records that were not being processed quickly enough.\" The acquired a full list of funeral homes. They hired 5 freelancers and held a large training session in San Juan. They designed a questionnaire so that data collection was consistent - it included questions about their log of deaths, total numbers, number that they considered associated with the hurricane, why they thought that, specific examples, along with standard information like contact name/title/on record confirmation. In all, it took 2 weeks to create their own paper trail.\n",
    "\n",
    "In terms of evidence 112 or about half of the homes responded. In Sutter's words, their estimate was meant as a kind of \"gut check\" on the government's numbers. \"Did the number seem correct? Or was it an order of magnitude off?\" While carried out systematically, it is hard to do much more with this number. That is, it is hard to know what it's uncertainties might be. What could the other half of the funeral homes contribute? The funeral directors are not doctors and their determination of whether a death was storm-related was subjective. It is, as Sutter suggests, a gut check that could lead you to other analysis.\n",
    "\n",
    "At the end of November, a [\"preprint\" from researchers at PSU appears](https://osf.io/preprints/socarxiv/s7dmu/) with yet another estimate. Papers are frequently posted to sites like [arXiv](arXiv.org) who allow researchers to share papers before they've gone through peer review. arXiv, for example, posts to its site a \"Disclaimer: Papers will be entered in the listings in order of receipt on an impartial basis and appearance of a paper is not intended in any way to convey tacit approval of its assumptions, methods, or conclusions by any agent (electronic, mechanical, or other). We reserve the right to reject any inappropriate submissions.\" When working with expert material, it is important to understand its status. Has it been subjected to peer review? Is the journal of reasonable quality?\n",
    "\n",
    "**Scraping detour**\n",
    "\n",
    "I've also made [a PDF version.](https://github.com/cocteau/pr/raw/master/papers/Excess%20mortality%20due%20to%20Hurricane%20Maria%20to%20be%20measured%20using%20a%20simple%20method.pdf) Pulling data from a web page or a PDF (a \"presentation format\") is called \"scraping the data\" from these sources and storing it in a format that is more amenable to computation. Web pages are written in HTML and are designed for display in web browsers. PDF (the Portable Document Format) is really good for representing data to a printer -- creating a standard like this was a huge deal when PDF was introduced. Often, however, it becomes a vehicle for publishing data and then you start to see its weaknesses. Extracting data from a PDF will depend, first, on the kind of PDF it is. If you can \"select\" text from the document, you're in luck. There are several tools to help you get reasonably close to the data. If, on the other hand, your pages are essentially images, well, then you have to rely on \"optical character recognition\" programs that cluster black and white pixels, say, into letters and words and sentences.\n",
    "\n",
    "I used [Tabula](http://tabula.technology/) to pull the data from the report and convert it to something more usable, a CSV (comma separated values) file. CSV files are a popular format for tabular data. Each line in the file represents a different person or object or \"entity.\" Measurements, or \"attributes\" on a given entity occupy one line in the file and are separated by commas. You can read more about the format [here](https://en.wikipedia.org/wiki/Comma-separated_values). For those of you more familiar with a spreadshet program, a CSV will always open.\n",
    "\n",
    "A program like [Tabula](https://tabula.technology/) can help us create a more usable data set from this paper. Demonstration! First you load up your PDF and then you select the area of the PDF with table data.\n",
    "<br><br>\n",
    "\n",
    "<img src=https://github.com/cocteau/pr/raw/master/images/tab1.jpg width=500>\n",
    "<br><br>\n",
    "\n",
    "We then convert it to a more usable file, a CSV. CSV stands for Comma Separated Values.\n",
    "<br><br>\n",
    "\n",
    "<img src=https://github.com/cocteau/pr/raw/master/images/tab2.jpg width=500>\n",
    "<br><br>\n",
    "\n",
    "I exported this file and loaded it onto github so you can download it and look at it. It is suitable for loading into Excel and all manner of data programs. [Here is the CSV.](https://github.com/cocteau/breakfasts/raw/master/data/tabula-Excess%20mortality%20due%20to%20Hurricane%20Maria%20to%20be%20measured%20using%20a%20simple%20method.csv) And below we read it into a program called R."
   ]
  },
  {
   "cell_type": "code",
   "execution_count": 1,
   "metadata": {},
   "outputs": [
    {
     "data": {
      "text/html": [
       "<table>\n",
       "<thead><tr><th scope=col>month</th><th scope=col>y2010</th><th scope=col>y2011</th><th scope=col>y2012</th><th scope=col>y2013</th><th scope=col>y2014</th><th scope=col>y2015</th><th scope=col>y2016</th><th scope=col>average</th></tr></thead>\n",
       "<tbody>\n",
       "\t<tr><td>January  </td><td>2392     </td><td>2728     </td><td>2619     </td><td>2578     </td><td>2484     </td><td>2744     </td><td>2741     </td><td>2612     </td></tr>\n",
       "\t<tr><td>February </td><td>2227     </td><td>2363     </td><td>2448     </td><td>2376     </td><td>2216     </td><td>2403     </td><td>2592     </td><td>2375     </td></tr>\n",
       "\t<tr><td>March    </td><td>2495     </td><td>2770     </td><td>2575     </td><td>2705     </td><td>2489     </td><td>2427     </td><td>2460     </td><td>2560     </td></tr>\n",
       "\t<tr><td>April    </td><td>2298     </td><td>2448     </td><td>2478     </td><td>2314     </td><td>2396     </td><td>2259     </td><td>2240     </td><td>2348     </td></tr>\n",
       "\t<tr><td>May      </td><td>2449     </td><td>2477     </td><td>2379     </td><td>2399     </td><td>2479     </td><td>2339     </td><td>2310     </td><td>2405     </td></tr>\n",
       "\t<tr><td>June     </td><td>2405     </td><td>2458     </td><td>2555     </td><td>2337     </td><td>2387     </td><td>2146     </td><td>2354     </td><td>2377     </td></tr>\n",
       "\t<tr><td>July     </td><td>2478     </td><td>2468     </td><td>2446     </td><td>2485     </td><td>2420     </td><td>2380     </td><td>2453     </td><td>2447     </td></tr>\n",
       "\t<tr><td>August   </td><td>2575     </td><td>2443     </td><td>2470     </td><td>2497     </td><td>2536     </td><td>2272     </td><td>2427     </td><td>2460     </td></tr>\n",
       "\t<tr><td>September</td><td>2281     </td><td>2359     </td><td>2454     </td><td>2469     </td><td>2495     </td><td>2258     </td><td>2363     </td><td>2383     </td></tr>\n",
       "\t<tr><td>October  </td><td>2468     </td><td>2483     </td><td>2420     </td><td>2398     </td><td>2486     </td><td>2391     </td><td>2352     </td><td>2428     </td></tr>\n",
       "\t<tr><td>November </td><td>2512     </td><td>2360     </td><td>2455     </td><td>2268     </td><td>2649     </td><td>2268     </td><td>2477     </td><td>2427     </td></tr>\n",
       "\t<tr><td>December </td><td>2776     </td><td>2645     </td><td>2574     </td><td>2540     </td><td>2889     </td><td>2516     </td><td>2844     </td><td>2683     </td></tr>\n",
       "</tbody>\n",
       "</table>\n"
      ],
      "text/latex": [
       "\\begin{tabular}{r|lllllllll}\n",
       " month & y2010 & y2011 & y2012 & y2013 & y2014 & y2015 & y2016 & average\\\\\n",
       "\\hline\n",
       "\t January   & 2392      & 2728      & 2619      & 2578      & 2484      & 2744      & 2741      & 2612     \\\\\n",
       "\t February  & 2227      & 2363      & 2448      & 2376      & 2216      & 2403      & 2592      & 2375     \\\\\n",
       "\t March     & 2495      & 2770      & 2575      & 2705      & 2489      & 2427      & 2460      & 2560     \\\\\n",
       "\t April     & 2298      & 2448      & 2478      & 2314      & 2396      & 2259      & 2240      & 2348     \\\\\n",
       "\t May       & 2449      & 2477      & 2379      & 2399      & 2479      & 2339      & 2310      & 2405     \\\\\n",
       "\t June      & 2405      & 2458      & 2555      & 2337      & 2387      & 2146      & 2354      & 2377     \\\\\n",
       "\t July      & 2478      & 2468      & 2446      & 2485      & 2420      & 2380      & 2453      & 2447     \\\\\n",
       "\t August    & 2575      & 2443      & 2470      & 2497      & 2536      & 2272      & 2427      & 2460     \\\\\n",
       "\t September & 2281      & 2359      & 2454      & 2469      & 2495      & 2258      & 2363      & 2383     \\\\\n",
       "\t October   & 2468      & 2483      & 2420      & 2398      & 2486      & 2391      & 2352      & 2428     \\\\\n",
       "\t November  & 2512      & 2360      & 2455      & 2268      & 2649      & 2268      & 2477      & 2427     \\\\\n",
       "\t December  & 2776      & 2645      & 2574      & 2540      & 2889      & 2516      & 2844      & 2683     \\\\\n",
       "\\end{tabular}\n"
      ],
      "text/markdown": [
       "\n",
       "month | y2010 | y2011 | y2012 | y2013 | y2014 | y2015 | y2016 | average | \n",
       "|---|---|---|---|---|---|---|---|---|---|---|---|\n",
       "| January   | 2392      | 2728      | 2619      | 2578      | 2484      | 2744      | 2741      | 2612      | \n",
       "| February  | 2227      | 2363      | 2448      | 2376      | 2216      | 2403      | 2592      | 2375      | \n",
       "| March     | 2495      | 2770      | 2575      | 2705      | 2489      | 2427      | 2460      | 2560      | \n",
       "| April     | 2298      | 2448      | 2478      | 2314      | 2396      | 2259      | 2240      | 2348      | \n",
       "| May       | 2449      | 2477      | 2379      | 2399      | 2479      | 2339      | 2310      | 2405      | \n",
       "| June      | 2405      | 2458      | 2555      | 2337      | 2387      | 2146      | 2354      | 2377      | \n",
       "| July      | 2478      | 2468      | 2446      | 2485      | 2420      | 2380      | 2453      | 2447      | \n",
       "| August    | 2575      | 2443      | 2470      | 2497      | 2536      | 2272      | 2427      | 2460      | \n",
       "| September | 2281      | 2359      | 2454      | 2469      | 2495      | 2258      | 2363      | 2383      | \n",
       "| October   | 2468      | 2483      | 2420      | 2398      | 2486      | 2391      | 2352      | 2428      | \n",
       "| November  | 2512      | 2360      | 2455      | 2268      | 2649      | 2268      | 2477      | 2427      | \n",
       "| December  | 2776      | 2645      | 2574      | 2540      | 2889      | 2516      | 2844      | 2683      | \n",
       "\n",
       "\n"
      ],
      "text/plain": [
       "   month     y2010 y2011 y2012 y2013 y2014 y2015 y2016 average\n",
       "1  January   2392  2728  2619  2578  2484  2744  2741  2612   \n",
       "2  February  2227  2363  2448  2376  2216  2403  2592  2375   \n",
       "3  March     2495  2770  2575  2705  2489  2427  2460  2560   \n",
       "4  April     2298  2448  2478  2314  2396  2259  2240  2348   \n",
       "5  May       2449  2477  2379  2399  2479  2339  2310  2405   \n",
       "6  June      2405  2458  2555  2337  2387  2146  2354  2377   \n",
       "7  July      2478  2468  2446  2485  2420  2380  2453  2447   \n",
       "8  August    2575  2443  2470  2497  2536  2272  2427  2460   \n",
       "9  September 2281  2359  2454  2469  2495  2258  2363  2383   \n",
       "10 October   2468  2483  2420  2398  2486  2391  2352  2428   \n",
       "11 November  2512  2360  2455  2268  2649  2268  2477  2427   \n",
       "12 December  2776  2645  2574  2540  2889  2516  2844  2683   "
      ]
     },
     "metadata": {},
     "output_type": "display_data"
    }
   ],
   "source": [
    "mortality <- read.csv(\"https://github.com/cocteau/D4D/raw/master/data/tabula-Excess%20mortality%20due%20to%20Hurricane%20Maria%20to%20be%20measured%20using%20a%20simple%20method.csv\")\n",
    "mortality"
   ]
  },
  {
   "cell_type": "markdown",
   "metadata": {},
   "source": [
    "The researchers at PSU then use a slim official statistic about the deaths in September of 2018, released in a November comment. This single point gave them some indication something was wrong.\n",
    "\n",
    "[Researchers raise new questions about the hurricane death toll in Puerto Rico](https://www.cnn.com/2017/11/29/health/demographers-puerto-rico-death-toll-estimate-invs/index.html)*\n",
    ">The figures for previous years were provided by the Puerto Rico Vital Statistics system. The September 2017 figure came from the Department of Public Safety, which has said 2,838 died that month, with 95% of all deaths being reported, according to the analysis posted online. The researchers estimated the total number of deaths for September and then compared that to the averages for the same month in previous years. \"I'm very sure of the number,\" Santos said by phone.\n",
    "\n",
    "**R Detour**\n",
    "\n",
    "Now, let's start looking at R. First, you can think of R as a big calculator (a famous statistician R.A. Fisher once said that he learned all he knew over his calculator) and its simplest commands are just arithmetic expressions. Add 2 and 3 below by clicking on the cell and then hit \"enter\" while holding down the shift key -- this sends the R expression \"2+3\" to be evaluated and the answer should be returned."
   ]
  },
  {
   "cell_type": "code",
   "execution_count": null,
   "metadata": {},
   "outputs": [],
   "source": [
    "2+3"
   ]
  },
  {
   "cell_type": "markdown",
   "metadata": {},
   "source": [
    "Try these lines."
   ]
  },
  {
   "cell_type": "code",
   "execution_count": null,
   "metadata": {},
   "outputs": [],
   "source": [
    "5*10\n",
    "20*4+3*sqrt(10)\n",
    "(100+log(25))/300"
   ]
  },
  {
   "cell_type": "markdown",
   "metadata": {},
   "source": [
    "Now, use the cell below to enter 3 more arithmetic expressions and execute them. The top of the cell has a \"comment\" -- in R, any text that starts with a # is ignored and is another way for you to add comments to your work."
   ]
  },
  {
   "cell_type": "code",
   "execution_count": null,
   "metadata": {},
   "outputs": [],
   "source": [
    "# Enter your expressions below\n",
    "\n"
   ]
  },
  {
   "cell_type": "markdown",
   "metadata": {},
   "source": [
    "The symbol `<-` is called the assignment operator. It's a bit of an old-school carry over in that back when S was developed, the APL and AT&T Terminal keyboards each had a single key to express this arrow. Jupyter's R kernel simulates this with a *keyboard shortcut* that on a Mac is Option-minus. \n",
    "\n",
    "Using the table above, use a simple calculation to tell me something about the loss of life associated with hurricane Maria. "
   ]
  },
  {
   "cell_type": "code",
   "execution_count": null,
   "metadata": {},
   "outputs": [],
   "source": [
    "# Your code here\n"
   ]
  },
  {
   "cell_type": "markdown",
   "metadata": {},
   "source": [
    "Of course, data analysis rarely deals in single values or even a handful of values. Instead we often deal with \"structured\" data, the most popular structure being that of a simple table like we have above. Think an Excel spreadsheet. To pull the mortality data into R, we used a \"function.\" **Everything you execute in R, every command, involves executing a function in some way.** Through functions, we encapsulate operations that we have to perform repeatedly. In the cell above, we used the function `read.csv()` which does what you might expect -- It reads data in a CSV file.\n",
    "\n",
    "You can also ask for help about any function in R using, well, another function called `help()`."
   ]
  },
  {
   "cell_type": "code",
   "execution_count": null,
   "metadata": {},
   "outputs": [],
   "source": [
    "help(read.csv)"
   ]
  },
  {
   "cell_type": "markdown",
   "metadata": {},
   "source": [
    "From this help page, you see how you can read in a data set and the different \"arguments\" that might alter the way the data are interpreted or the operation is performed. Above we called `read.csv()` with only the first, the URL of the file to read. \n",
    "\n",
    "Below we have created a slightly different version of the file and read it with the command `load()`. We did this because we wanted to preserve the order of the months rather than have their names sorted alphabetically. This is entirely too technical. For now, it's just a second way to load data in, this time data stored in R's own format. "
   ]
  },
  {
   "cell_type": "code",
   "execution_count": null,
   "metadata": {},
   "outputs": [],
   "source": [
    "load(url(\"https://github.com/cocteau/D4D/raw/master/data/mortality2.Rda\"))\n",
    "mortality2"
   ]
  },
  {
   "cell_type": "markdown",
   "metadata": {},
   "source": [
    "Notice that both this table and the one above contain the same data. They just structure it slightly differently. We will have more to say about the choices later. \n",
    "\n",
    "Out of the box, R comes with a large number of things it can do. It was designed to support statistical work and so it is most expressive when it comes to statistical computations. One of the powerful things about R is the vast community that is currently supporting its development. You can read about updates on the [R site](https://www.r-project.org/) and, in particular, download new tools from a local host of [The Comprehensive R Archive Network](http://cran.stat.ucla.edu/). Here you will see *packages* or additions to base R that implement some of the most current statistical, machine learning (AI) procedures as well as \"oldies but goodies.\" A package consists of new commands and new data that someone has decided to share.\n",
    "\n",
    "Here we will make use of two packages, both written by [Hadley Wickham](http://hadley.nz/), Chief Scientist at RStudio. The first helps us manipulate tables and is called `dplyr`, and the second makes pretty nice graphics and is called `ggplot2` (the \"gg\" for [Grammar of Graphics](https://www.amazon.com/Grammar-Graphics-Statistics-Computing/dp/0387245448)). To use the new functions Hadley has written you simply use the `library()` command."
   ]
  },
  {
   "cell_type": "code",
   "execution_count": null,
   "metadata": {},
   "outputs": [],
   "source": [
    "library(dplyr)\n",
    "library(ggplot2)"
   ]
  },
  {
   "cell_type": "markdown",
   "metadata": {},
   "source": [
    "The package `dplyr` lets you do things like `filter()` the rows of a table, keeping only those that satisfy certain conditions..."
   ]
  },
  {
   "cell_type": "code",
   "execution_count": null,
   "metadata": {},
   "outputs": [],
   "source": [
    "filter(mortality2,year==2016)"
   ]
  },
  {
   "cell_type": "code",
   "execution_count": null,
   "metadata": {},
   "outputs": [],
   "source": [
    "filter(mortality2,month==\"September\")"
   ]
  },
  {
   "cell_type": "markdown",
   "metadata": {},
   "source": [
    "And if we wanted, we could take this smaller table of September's data and create the mean or average number of deaths across every September from 2010 to 2016. Here we take the output of one function, `filter()`, and feed it as the input to another, `summarize()`."
   ]
  },
  {
   "cell_type": "code",
   "execution_count": null,
   "metadata": {},
   "outputs": [],
   "source": [
    "summarize(filter(mortality2,month==\"September\"),avg_deaths=mean(deaths))"
   ]
  },
  {
   "cell_type": "markdown",
   "metadata": {},
   "source": [
    "Or instead of filtering by months, we can `group_by()` or \"group the data by\" `month` and then form our averages."
   ]
  },
  {
   "cell_type": "code",
   "execution_count": null,
   "metadata": {},
   "outputs": [],
   "source": [
    "summarize(group_by(mortality2, month), avg_deaths = mean(deaths))"
   ]
  },
  {
   "cell_type": "markdown",
   "metadata": {},
   "source": [
    "And as a teaser, we take a sequence of commands where the output of one feeds as input to the next and simplify the expressions using so-called \"pipes.\" Here the data `mortality2` are passed as input to `groupby()` and the groups are then passed as input to `summarize()`. But now we are in the weeds. "
   ]
  },
  {
   "cell_type": "code",
   "execution_count": null,
   "metadata": {},
   "outputs": [],
   "source": [
    "mortality2 %>%\n",
    "    group_by(month) %>%\n",
    "    summarize(avg_deaths = mean(deaths))"
   ]
  },
  {
   "cell_type": "markdown",
   "metadata": {},
   "source": [
    "To \"see\" these data we can use the command `ggplot()` which we will get really good at. It builds up a plot from basic commands, using simple addition to add components like lines and text."
   ]
  },
  {
   "cell_type": "code",
   "execution_count": null,
   "metadata": {},
   "outputs": [],
   "source": [
    "options(repr.plot.width=10, repr.plot.height=5)\n",
    "\n",
    "ggplot() + \n",
    "    geom_line(aes(x=month,y=deaths,group=year),mortality2,color=\"grey\") +\n",
    "    geom_point(aes(x=9, y=2838), color=\"black\") +\n",
    "    geom_text(aes(x=9,y=2875),label=\"September, 2018\") "
   ]
  }
 ],
 "metadata": {
  "kernelspec": {
   "display_name": "R",
   "language": "R",
   "name": "ir"
  },
  "language_info": {
   "codemirror_mode": "r",
   "file_extension": ".r",
   "mimetype": "text/x-r-source",
   "name": "R",
   "pygments_lexer": "r",
   "version": "3.5.0"
  }
 },
 "nbformat": 4,
 "nbformat_minor": 2
}
